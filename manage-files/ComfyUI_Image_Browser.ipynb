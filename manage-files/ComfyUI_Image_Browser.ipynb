{
 "cells": [
  {
   "cell_type": "markdown",
   "metadata": {},
   "source": [
    "# ComfyUI Output Browser\n",
    "\n",
    "This notebook provides an interface to the Infinite Image Browser service which allows you to browse, search, and manage your ComfyUI output images."
   ]
  },
  {
   "cell_type": "code",
   "execution_count": null,
   "metadata": {},
   "outputs": [],
   "source": [
    "from IPython.display import IFrame, HTML, display\n",
    "import os\n",
    "import time\n",
    "import subprocess\n",
    "import requests\n",
    "\n",
    "# Check if the image browser service is running\n",
    "def is_service_running(url=\"http://localhost:8181\"):\n",
    "    try:\n",
    "        r = requests.get(url, timeout=2)\n",
    "        return r.status_code == 200\n",
    "    except:\n",
    "        return False\n",
    "\n",
    "# Start the service if it's not running\n",
    "if not is_service_running():\n",
    "    print(\"Starting Infinite Image Browser service...\")\n",
    "    subprocess.Popen([\"/workspace/run_image_browser.sh\"], \n",
    "                     stdout=subprocess.PIPE, \n",
    "                     stderr=subprocess.PIPE, \n",
    "                     shell=True)\n",
    "    \n",
    "    # Wait for service to start\n",
    "    for _ in range(10):\n",
    "        if is_service_running():\n",
    "            print(\"Service started successfully!\")\n",
    "            break\n",
    "        print(\"Waiting for service to start...\")\n",
    "        time.sleep(1)\n",
    "    else:\n",
    "        print(\"Warning: Service didn't start in the expected time, but we'll try to load the interface anyway.\")\n",
    "else:\n",
    "    print(\"Infinite Image Browser service is already running.\")\n",
    "\n",
    "# Show some helpful info\n",
    "display(HTML(\"\"\"\n",
    "<div style=\"background-color: #f8f9fa; padding: 10px; border-radius: 5px; margin-bottom: 10px\">\n",
    "<h3>🖼️ Using the Image Browser</h3>\n",
    "<ul>\n",
    "  <li>The browser shows all images from your <code>/workspace/ComfyUI/output</code> folder</li>\n",
    "  <li>You can search by filename, creation date, and metadata</li>\n",
    "  <li>Right-click images for additional options</li>\n",
    "  <li>If the iframe below doesn't load, you can access the browser directly at: <a href=\"http://localhost:8181\" target=\"_blank\">http://localhost:8181</a></li>\n",
    "</ul>\n",
    "</div>\n",
    "\"\"\"))"
   ]
  },
  {
   "cell_type": "code",
   "execution_count": null,
   "metadata": {},
   "outputs": [],
   "source": [
    "# Display the Infinite Image Browser in an iframe\n",
    "IFrame(src=\"http://localhost:8181\", width=\"100%\", height=800)"
   ]
  }
 ],
 "metadata": {
  "kernelspec": {
   "display_name": "Python 3",
   "language": "python",
   "name": "python3"
  },
  "language_info": {
   "codemirror_mode": {
    "name": "ipython",
    "version": 3
   },
   "file_extension": ".py",
   "mimetype": "text/x-python",
   "name": "python",
   "nbconvert_exporter": "python",
   "pygments_lexer": "ipython3",
   "version": "3.12.0"
  }
 },
 "nbformat": 4,
 "nbformat_minor": 4
}